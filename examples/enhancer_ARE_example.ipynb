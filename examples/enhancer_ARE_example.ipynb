{
 "cells": [
  {
   "cell_type": "markdown",
   "id": "df564068",
   "metadata": {},
   "source": [
    "# GeneForgeLang Example: AU-Rich Element Enhanced mRNA\n",
    "This notebook demonstrates how to define and simulate an mRNA construct with ARE elements to enhance translation using GeneForgeLang."
   ]
  },
  {
   "cell_type": "markdown",
   "id": "ca0ce3ee",
   "metadata": {},
   "source": [
    "## GFL Construct Definition\n",
    "Below is the GeneForgeLang definition for the mRNA construct enhanced with AU-rich elements."
   ]
  },
  {
   "cell_type": "code",
   "execution_count": null,
   "id": "caeb97ea",
   "metadata": {},
   "outputs": [],
   "source": [
    "```yaml\n",
    "construct:\n",
    "  name: \"EGFP_mRNA_with_ARE\"\n",
    "  type: \"mRNA\"\n",
    "  elements:\n",
    "    - 5utr:\n",
    "        sequence: \"human_alpha_globin_5UTR\"\n",
    "    - orf:\n",
    "        gene: \"EGFP\"\n",
    "        codon_optimization: \"human\"\n",
    "    - enhancer:\n",
    "        type: \"AU-rich\"\n",
    "        insertion_site: \"pre_3utr\"\n",
    "        sequence: \"AUUUAUUUAUUUAUUUAUUUAUUUAUUUA\"\n",
    "        binding_protein: \"HuR\"\n",
    "        repeat: 6\n",
    "    - 3utr:\n",
    "        sequence: \"human_AES_TLE5_3UTR\"\n",
    "    - polyA:\n",
    "        length: 80\n",
    "  delivery:\n",
    "    method: \"LNP\"\n",
    "    dose: \"5ug\"\n",
    "    schedule: [\"day0\", \"day7\"]\n",
    "  test:\n",
    "    protein_expression: true\n",
    "    immune_response:\n",
    "      antigen: \"EGFP\"\n",
    "      assay: [\"fluorescence\", \"ELISA\"]\n",
    "```"
   ]
  },
  {
   "cell_type": "markdown",
   "id": "99bb4b0a",
   "metadata": {},
   "source": [
    "## Parse and Simulate\n",
    "Use GeneForgeLang parser to interpret and simulate the construct (requires `yaml_parser.py`)."
   ]
  },
  {
   "cell_type": "code",
   "execution_count": null,
   "id": "56736a13",
   "metadata": {},
   "outputs": [],
   "source": [
    "from gene_tokenizer.yaml_parser import parse_construct\n",
    "\n",
    "with open(\"examples/egfp_mrna_are.yaml\") as f:\n",
    "    construct = parse_construct(f)\n",
    "\n",
    "print(\"Parsed construct:\", construct)"
   ]
  }
 ],
 "metadata": {},
 "nbformat": 4,
 "nbformat_minor": 5
}
