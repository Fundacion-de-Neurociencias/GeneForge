{
 "cells": [
  {
   "cell_type": "markdown",
   "metadata": {},
   "source": [
    "# 🧬 GeneForge: Enhancer Design Demo\n",
    "\n",
    "This notebook demonstrates how to generate synthetic enhancer sequences using the `enhancer_generator` module in GeneForge."
   ]
  },
  {
   "cell_type": "code",
   "execution_count": null,
   "metadata": {},
   "outputs": [],
   "source": [
    "# Import enhancer generator\n",
    "from enhancer_design.enhancer_generator import generate_enhancer"
   ]
  },
  {
   "cell_type": "markdown",
   "metadata": {},
   "source": [
    "## 🔧 Define Parameters"
   ]
  },
  {
   "cell_type": "code",
   "execution_count": null,
   "metadata": {},
   "outputs": [],
   "source": [
    "promoter_id = \"HBB\"  # Human beta-globin\n",
    "cell_type = \"erythroblast\"\n",
    "factors = [\"GATA1\", \"TAL1\", \"KLF1\"]"
   ]
  },
  {
   "cell_type": "markdown",
   "metadata": {},
   "source": [
    "## 🧪 Generate Enhancer"
   ]
  },
  {
   "cell_type": "code",
   "execution_count": null,
   "metadata": {},
   "outputs": [],
   "source": [
    "enhancer = generate_enhancer(promoter_id, cell_type, factors)\n",
    "print(enhancer)"
   ]
  }
 ],
 "metadata": {
  "kernelspec": {
   "display_name": "Python 3",
   "language": "python",
   "name": "python3"
  },
  "language_info": {
   "name": "python",
   "version": "3.10"
  }
 },
 "nbformat": 4,
 "nbformat_minor": 2
}
