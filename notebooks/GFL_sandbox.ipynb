# notebooks/GFL_sandbox.ipynb

{
 "cells": [
  {
   "cell_type": "markdown",
   "metadata": {},
   "source": [
    "# 🧪 GeneForgeLang Sandbox Notebook\n",
    "This interactive notebook allows you to write, parse, visualize and simulate `.gfl` genetic editing scenarios using GeneForge components."
   ]
  },
  {
   "cell_type": "code",
   "execution_count": null,
   "metadata": {},
   "outputs": [],
   "source": [
    "from gfl.parser import GFLParser\n",
    "from gfl.inference_engine import InferenceEngine\n",
    "from model.transformer_multimodal import GeneForgeModel\n",
    "from integration.HEVisum_connector import HEVisumConnector\n",
    "\n",
    "# Example GFL input\n",
    "gfl_text = \"\"\"\n",
    "edit(SNP:rs1042522)\n",
    "target(gene:TP53)\n",
    "effect(function:loss_of_function)\n",
    "pathway(p53:apoptosis)\n",
    "link(edit->target)\n",
    "link(target->effect)\n",
    "link(effect->pathway)\n",
    "simulate(tumorigenesis)\n",
    "\"\"\""
   ]
  },
  {
   "cell_type": "code",
   "execution_count": null,
   "metadata": {},
   "outputs": [],
   "source": [
    "parser = GFLParser()\n",
    "ast = parser.parse(gfl_text)\n",
    "print(ast)"
   ]
  },
  {
   "cell_type": "code",
   "execution_count": null,
   "metadata": {},
   "outputs": [],
   "source": [
    "model = GeneForgeModel()\n",
    "engine = InferenceEngine(model)\n",
    "features = model.from_gfl_ast(ast)\n",
    "prediction = engine.predict_effect(ast.to_dict())\n",
    "print(\"Prediction:\", prediction)"
   ]
  },
  {
   "cell_type": "code",
   "execution_count": null,
   "metadata": {},
   "outputs": [],
   "source": [
    "# Optional: Visualize with HEVisum\n",
    "connector = HEVisumConnector()\n",
    "net = connector.ast_to_network(ast.to_dict())\n",
    "url = connector.send_to_hevisum(net)\n",
    "print(\"HEVisum Network URL:\", url)"
   ]
  }
 ],
 "metadata": {
  "kernelspec": {
   "display_name": "Python 3",
   "language": "python",
   "name": "python3"
  },
  "language_info": {
   "name": "python",
   "version": "3.10"
  }
 },
 "nbformat": 4,
 "nbformat_minor": 2
}
